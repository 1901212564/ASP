{
 "cells": [
  {
   "cell_type": "markdown",
   "metadata": {},
   "source": [
    "# Option pricing with MC Simulations"
   ]
  },
  {
   "cell_type": "code",
   "execution_count": 2,
   "metadata": {},
   "outputs": [],
   "source": [
    "import numpy as np\n",
    "import matplotlib.pyplot as plt\n",
    "import pyfeng as pf\n",
    "import scipy.stats as scst"
   ]
  },
  {
   "cell_type": "code",
   "execution_count": 3,
   "metadata": {},
   "outputs": [],
   "source": [
    "sigma = 0.2\n",
    "texp = 1\n",
    "spot = 100\n",
    "m_bs = pf.Bsm(sigma)"
   ]
  },
  {
   "cell_type": "code",
   "execution_count": 4,
   "metadata": {},
   "outputs": [],
   "source": [
    "# Generate random numbers\n",
    "z = np.random.normal(size=100000)\n",
    "#anti-thetic"
   ]
  },
  {
   "cell_type": "code",
   "execution_count": null,
   "metadata": {},
   "outputs": [],
   "source": []
  },
  {
   "cell_type": "markdown",
   "metadata": {},
   "source": [
    "## Black-Scholes model (Geomegric Brownian Motion)"
   ]
  },
  {
   "cell_type": "code",
   "execution_count": 5,
   "metadata": {},
   "outputs": [
    {
     "name": "stdout",
     "output_type": "stream",
     "text": [
      "[ 79.93637567  91.18436028  85.87787172 ...  96.21560274 101.54730798\n",
      "  92.79608602]\n"
     ]
    }
   ],
   "source": [
    "# Black-Scholes-Merton model (Geometric BM)\n",
    "s_bsm = spot * np.exp(-(sigma**2)*texp/2 + sigma*np.sqrt(texp)*z)\n",
    "print(s_bsm)"
   ]
  },
  {
   "cell_type": "code",
   "execution_count": 6,
   "metadata": {},
   "outputs": [
    {
     "data": {
      "text/plain": [
       "DescribeResult(nobs=100000, minmax=(42.455876774168786, 213.20957126635759), mean=100.02201425567273, variance=405.27146848960274, skewness=0.5961558989919885, kurtosis=0.5956799748655524)"
      ]
     },
     "execution_count": 6,
     "metadata": {},
     "output_type": "execute_result"
    }
   ],
   "source": [
    "## Sanity check\n",
    "np.mean(s_bsm), np.std(s_bsm)\n",
    "scst.describe(s_bsm)"
   ]
  },
  {
   "cell_type": "code",
   "execution_count": 7,
   "metadata": {
    "scrolled": true
   },
   "outputs": [
    {
     "data": {
      "image/png": "[encoded data removed]",
      "text/plain": [
       "<Figure size 432x288 with 1 Axes>"
      ]
     },
     "metadata": {
      "needs_background": "light"
     },
     "output_type": "display_data"
    }
   ],
   "source": [
    "# the histogram of the data\n",
    "n, bins, patches = plt.hist(s_bsm, 50, facecolor='green', alpha=0.7)\n",
    "plt.grid(True)\n",
    "plt.show()"
   ]
  },
  {
   "cell_type": "code",
   "execution_count": 7,
   "metadata": {},
   "outputs": [
    {
     "name": "stdout",
     "output_type": "stream",
     "text": [
      "7.075288099400038\n"
     ]
    }
   ],
   "source": [
    "### Price a call option\n",
    "\n",
    "strike = 102\n",
    "#cp_sign = 1\n",
    "price = np.mean(np.fmax(s_bsm - strike, 0))\n",
    "print( price )"
   ]
  },
  {
   "cell_type": "code",
   "execution_count": 8,
   "metadata": {},
   "outputs": [
    {
     "data": {
      "text/plain": [
       "7.084494247829895"
      ]
     },
     "execution_count": 8,
     "metadata": {},
     "output_type": "execute_result"
    }
   ],
   "source": [
    "# Exact price\n",
    "m_bs.price(strike, spot, texp)"
   ]
  },
  {
   "cell_type": "code",
   "execution_count": 9,
   "metadata": {},
   "outputs": [
    {
     "name": "stdout",
     "output_type": "stream",
     "text": [
      "6.952869626275089\n"
     ]
    }
   ],
   "source": [
    "### Can price different options without extra computation\n",
    "\n",
    "strike = 98\n",
    "cp_sign = -1\n",
    "price = np.mean(np.fmax(cp_sign*(s_bsm - strike), 0))\n",
    "print( price )"
   ]
  },
  {
   "cell_type": "code",
   "execution_count": 10,
   "metadata": {},
   "outputs": [
    {
     "data": {
      "text/plain": [
       "6.925974960378305"
      ]
     },
     "execution_count": 10,
     "metadata": {},
     "output_type": "execute_result"
    }
   ],
   "source": [
    "# Exact price\n",
    "m_bs.price(strike, spot, texp, cp=-1)"
   ]
  },
  {
   "cell_type": "markdown",
   "metadata": {},
   "source": [
    "## Bachelier Model (Arithmetic Brownian Motion)"
   ]
  },
  {
   "cell_type": "code",
   "execution_count": 8,
   "metadata": {},
   "outputs": [],
   "source": [
    "sigma = 20\n",
    "texp = 1\n",
    "spot = 100\n",
    "m_norm = pf.Norm(sigma)"
   ]
  },
  {
   "cell_type": "code",
   "execution_count": 9,
   "metadata": {},
   "outputs": [],
   "source": [
    "s_norm = spot + sigma * np.sqrt(texp) * z"
   ]
  },
  {
   "cell_type": "code",
   "execution_count": 13,
   "metadata": {},
   "outputs": [
    {
     "name": "stdout",
     "output_type": "stream",
     "text": [
      "7.006550181429083\n"
     ]
    }
   ],
   "source": [
    "strike = 102\n",
    "cp_sign = 1\n",
    "price = np.mean(np.fmax(s_norm - strike, 0))\n",
    "print( price )"
   ]
  },
  {
   "cell_type": "code",
   "execution_count": 14,
   "metadata": {},
   "outputs": [
    {
     "data": {
      "text/plain": [
       "7.018706624094294"
      ]
     },
     "execution_count": 14,
     "metadata": {},
     "output_type": "execute_result"
    }
   ],
   "source": [
    "# Exact price\n",
    "m_norm.price(strike, spot, texp)"
   ]
  },
  {
   "cell_type": "code",
   "execution_count": 15,
   "metadata": {},
   "outputs": [
    {
     "name": "stdout",
     "output_type": "stream",
     "text": [
      "7.047434402925551\n"
     ]
    }
   ],
   "source": [
    "strike = 98\n",
    "cp_sign = -1\n",
    "price = np.mean(np.fmax(cp_sign*(s_norm - strike), 0))\n",
    "print( price )"
   ]
  },
  {
   "cell_type": "code",
   "execution_count": 16,
   "metadata": {},
   "outputs": [
    {
     "data": {
      "text/plain": [
       "7.018706624094294"
      ]
     },
     "execution_count": 16,
     "metadata": {},
     "output_type": "execute_result"
    }
   ],
   "source": [
    "# Exact price\n",
    "m_norm.price(strike, spot, texp, cp=-1)"
   ]
  },
  {
   "cell_type": "code",
   "execution_count": null,
   "metadata": {},
   "outputs": [],
   "source": []
  }
 ],
 "metadata": {
  "anaconda-cloud": {},
  "kernelspec": {
   "display_name": "Python 3",
   "language": "python",
   "name": "python3"
  }
 },
 "nbformat": 4,
 "nbformat_minor": 1
}
